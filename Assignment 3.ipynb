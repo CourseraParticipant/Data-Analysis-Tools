{
 "cells": [
  {
   "cell_type": "markdown",
   "metadata": {},
   "source": [
    "# Week 3  - The Pearson correlation coefficient (r)\n",
    "## **Research question: Is there association between alcohol consumption and emloyment rate?**\n",
    "\n",
    "   Here we are interested in relationship between alcohol consumption per capita ( in liters) and employment rate (expressed as %). We want to identify if there is an relationship and , if it exists,whether it is negative (higher alcohol consumption means lower employment rate) or positive (higher alcohol consumption means lower employment rate). As both variables are quantitative, we will analyze the potential relationship by calculating the Pearson coefficient.\n",
    "   \n",
    "## **Data**\n",
    "\n",
    "   We use the data provided in the course material - \"gapminder\" data. The data were downloaded from the following link:\n",
    "[Gapminder data files](https://d396qusza40orc.cloudfront.net/phoenixassets/data-management-visualization/gapminder.csv)\n",
    "   If you want to reproduce same output as here, please save this jupyter notebook and the above .csv file in the same folder.\n",
    "   \n",
    "## **Code**\n",
    "\n",
    "   In the following lines I will include my python code (generated via jupyter notebook). The code will be splitted into blocks / cells , where each block is one step of a code. The step description will be added as comment within the code. Here is the code:"
   ]
  },
  {
   "cell_type": "code",
   "execution_count": 22,
   "metadata": {
    "collapsed": true
   },
   "outputs": [],
   "source": [
    "%matplotlib inline\n",
    "# importing libraries \n",
    "import pandas\n",
    "import numpy\n",
    "import seaborn\n",
    "import scipy\n",
    "import matplotlib.pyplot as plt"
   ]
  },
  {
   "cell_type": "code",
   "execution_count": 23,
   "metadata": {
    "collapsed": true
   },
   "outputs": [],
   "source": [
    "# Reading data set - using the data set from the course\n",
    "data = pandas.read_csv('gapminder.csv', low_memory=False)"
   ]
  },
  {
   "cell_type": "code",
   "execution_count": 25,
   "metadata": {
    "collapsed": false,
    "scrolled": true
   },
   "outputs": [],
   "source": [
    "#setting relevant variables to numeric\n",
    "data['alcconsumption'] = pandas.to_numeric(data['alcconsumption'],errors='raise')\n",
    "data['employrate'] = pandas.to_numeric(data['employrate'],errors='raise')\n",
    "# setting NAs values\n",
    "data['alcconsumption']=data['alcconsumption'].replace(' ', numpy.nan)\n",
    "data['employrate'] = data['employrate'].replace(' ', numpy.nan)\n",
    "#cleaning data -removing of NAs\n",
    "data_clean=data.dropna()"
   ]
  },
  {
   "cell_type": "code",
   "execution_count": 26,
   "metadata": {
    "collapsed": false
   },
   "outputs": [
    {
     "data": {
      "image/png": "[encoded data removed]",
      "text/plain": [
       "<matplotlib.figure.Figure at 0xa586b38>"
      ]
     },
     "metadata": {},
     "output_type": "display_data"
    }
   ],
   "source": [
    "# Scatter plot for the variables of interest\n",
    "plt.figure(1)\n",
    "plt.scatter(data_clean['alcconsumption'], data_clean['employrate'])\n",
    "plt.xlabel('Alcohol consumption')\n",
    "plt.ylabel('Employment rate')\n",
    "plt.title('Scatterplot for Association Between Alcohol consumption and Employment rate')\n",
    "plt.show()"
   ]
  },
  {
   "cell_type": "markdown",
   "metadata": {},
   "source": [
    "The scatterplot above seems to show no (LINEAR) relationship between these two variables. Let us verify it with the Pearson \n",
    "coefficient. Here is the code calculating the coefficient:"
   ]
  },
  {
   "cell_type": "code",
   "execution_count": 28,
   "metadata": {
    "collapsed": false
   },
   "outputs": [
    {
     "name": "stdout",
     "output_type": "stream",
     "text": [
      "Association between alcconsumption and employrate - The Pearson coefficient (r) and its p-value\n",
      "(-0.13383831023376283, 0.085596367946780993)\n"
     ]
    }
   ],
   "source": [
    "# Pearson coefficient for the two variables and its p-value\n",
    "print ('Association between alcconsumption and employrate - \\\n",
    "       The Pearson coefficient (r) and its p-value')\n",
    "print (scipy.stats.pearsonr(data_clean['alcconsumption'], data_clean['employrate']))"
   ]
  },
  {
   "cell_type": "markdown",
   "metadata": {},
   "source": [
    "## Interpretation & Summary\n",
    "The Pearson coefficient (r) is ca. -0.13, so very close to zero, what would mean that, **if there is a linear relationship** then it is a weak relation - or no association. However, the p-value is 0.085.. > 0.05 , meaning that the correlation coefficient is **not significant**. One of the reason for high p-value could be low sample size.\n",
    "\n",
    "## Conclusion\n",
    "\n",
    "There is no statistically significant linear relationship between alcohol consumption and employment rate, as the p-value is higher than 0.05.\n",
    "\n",
    "## Note for Coeficient of Determination or R^2\n",
    "\n",
    "Since the Pearson coefficient is not significant, it makes noi sense to calculate the coefficient of determination as we can not interpret it correctly."
   ]
  }
 ],
 "metadata": {
  "kernelspec": {
   "display_name": "Python 3",
   "language": "python",
   "name": "python3"
  },
  "language_info": {
   "codemirror_mode": {
    "name": "ipython",
    "version": 3
   },
   "file_extension": ".py",
   "mimetype": "text/x-python",
   "name": "python",
   "nbconvert_exporter": "python",
   "pygments_lexer": "ipython3",
   "version": "3.5.1"
  }
 },
 "nbformat": 4,
 "nbformat_minor": 0
}
